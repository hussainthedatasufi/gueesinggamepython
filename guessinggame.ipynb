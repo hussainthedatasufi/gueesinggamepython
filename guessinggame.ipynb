{
  "nbformat": 4,
  "nbformat_minor": 0,
  "metadata": {
    "colab": {
      "provenance": []
    },
    "kernelspec": {
      "name": "python3",
      "display_name": "Python 3"
    },
    "language_info": {
      "name": "python"
    }
  },
  "cells": [
    {
      "cell_type": "code",
      "execution_count": null,
      "metadata": {
        "id": "hSbvqjP4zr7x"
      },
      "outputs": [],
      "source": [
        "from ast import Break\n",
        "import random\n",
        "import math\n",
        "\n",
        "#Taking inputs\n",
        "lower=int(input(\"Enter the lower limit:\"))\n",
        "upper=int(input(\"Enter the upper limit:\"))\n",
        "\n",
        "#Generating random number between the lower and upper limit\n",
        "x=random.randint(lower,upper)\n",
        "print(\"You have only\",round(math.log(upper-lower+1,2)),\" chances to guess the integer!!!\")\n",
        "\n",
        "#Initializing the number of guesses.\n",
        "count=0\n",
        "\n",
        "#for calculation of minimum number of guesses depends on the range.\n",
        "while count<math.log(upper-lower+1,2):\n",
        "  count+=1\n",
        "\n",
        "  #taking guessing number as input\n",
        "  guess=int(input(\"Guess a number:\"))\n",
        "\n",
        "  #condition testing\n",
        "  if (x==guess):\n",
        "    print(\"Congratulations,You did it in \",count,\" try\")\n",
        "    break\n",
        "  elif (x > guess):\n",
        "    print(\"You guessed too small!!\")\n",
        "  elif (x<guess):\n",
        "    print(\"You guessed too high!!\")\n",
        "#If guessing is more than required guesses, show this output\n",
        "if count >= math.log(upper-lower+1,2):\n",
        "  print(\"The number is %d\" % x)\n",
        "  print(\"Better Luck next time!\")"
      ]
    }
  ]
}